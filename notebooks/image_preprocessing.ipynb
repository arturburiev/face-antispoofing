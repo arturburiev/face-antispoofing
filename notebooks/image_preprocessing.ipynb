{
 "cells": [
  {
   "cell_type": "markdown",
   "id": "b6caedd9",
   "metadata": {},
   "source": [
    "# Выполнение геометрических преобразований изображений"
   ]
  },
  {
   "cell_type": "markdown",
   "id": "50bb32fa",
   "metadata": {},
   "source": [
    "### Импорт необходимых библиотек"
   ]
  },
  {
   "cell_type": "code",
   "execution_count": 1,
   "id": "79b1ce68",
   "metadata": {},
   "outputs": [],
   "source": [
    "import sys\n",
    "\n",
    "sys.path.insert(1, \"../\")\n",
    "\n",
    "import os\n",
    "import shutil\n",
    "import pathlib\n",
    "import collections\n",
    "\n",
    "import cv2\n",
    "import numpy as np\n",
    "from PIL import Image\n",
    "import matplotlib.pyplot as plt\n",
    "\n",
    "from src.data.image_transformation import (\n",
    "    read_points_for_transform,\n",
    "    make_image_transformation,\n",
    "    choose_transformation_matrix,\n",
    "    get_transformation_matrix,\n",
    "    perform_projective_transformation,\n",
    ")\n",
    "from src.data.utils import is_non_zero_file, get_directory_file_list\n",
    "from src.features.finding_face_area import get_coords_of_face_area, get_face_area"
   ]
  },
  {
   "cell_type": "markdown",
   "id": "30bd589a",
   "metadata": {},
   "source": [
    "### Поворот на 360 градусов изображений, снятых на тепловизор"
   ]
  },
  {
   "cell_type": "code",
   "execution_count": 2,
   "id": "993ff50c",
   "metadata": {},
   "outputs": [],
   "source": [
    "main_path = pathlib.Path(\n",
    "    pathlib.Path.home(),\n",
    "    \"Projects\",\n",
    "    \"ml\",\n",
    "    \"datasets\",\n",
    "    \"FACE_ANTISPOOFING_EXP2\",\n",
    ")"
   ]
  },
  {
   "cell_type": "code",
   "execution_count": 3,
   "id": "b7cdc61b",
   "metadata": {},
   "outputs": [],
   "source": [
    "src_path = main_path / \"thermal\" / \"orig\"\n",
    "dst_path = main_path / \"thermal\" / \"processed\""
   ]
  },
  {
   "cell_type": "code",
   "execution_count": 3,
   "id": "9b24d6ab",
   "metadata": {},
   "outputs": [],
   "source": [
    "for root, dirs, files in os.walk(src_path):\n",
    "    for filename in files:\n",
    "        if not filename.startswith(\".\"):\n",
    "            image = Image.open(os.path.join(root, filename))\n",
    "            image = image.rotate(360)\n",
    "            image.save(dst_path / filename)"
   ]
  },
  {
   "cell_type": "markdown",
   "id": "f6fa2b8b",
   "metadata": {},
   "source": [
    "### Получение и сохранение матриц для проективного преобразования тепловых изображений"
   ]
  },
  {
   "cell_type": "code",
   "execution_count": 5,
   "id": "8abb30fa",
   "metadata": {},
   "outputs": [],
   "source": [
    "data_for_transform_path = main_path / \"data_for_transform\""
   ]
  },
  {
   "cell_type": "code",
   "execution_count": 6,
   "id": "7cd2f021",
   "metadata": {},
   "outputs": [],
   "source": [
    "points_dir_path = data_for_transform_path / \"points\""
   ]
  },
  {
   "cell_type": "markdown",
   "id": "3e86594f",
   "metadata": {},
   "source": [
    "#### Генерация файлов для записи точек"
   ]
  },
  {
   "cell_type": "code",
   "execution_count": 8,
   "id": "9419b00a",
   "metadata": {},
   "outputs": [],
   "source": [
    "rgb_images_dir_path = main_path / \"rgb\" / \"orig\""
   ]
  },
  {
   "cell_type": "code",
   "execution_count": 9,
   "id": "c64f233f",
   "metadata": {},
   "outputs": [],
   "source": [
    "th_images_dir_path = main_path / \"thermal\" / \"processed\""
   ]
  },
  {
   "cell_type": "code",
   "execution_count": 7,
   "id": "8c4309f5",
   "metadata": {},
   "outputs": [],
   "source": [
    "for root, dirs, files in os.walk(rgb_images_dir_path):\n",
    "    for filename in files:\n",
    "        if not filename.startswith(\".\"):\n",
    "            open(points_dir_path / filename.replace(\"a.jpg\", \"points.txt\"), \"a\").close()"
   ]
  },
  {
   "cell_type": "markdown",
   "id": "1578e4dd",
   "metadata": {},
   "source": [
    "#### Получение и сохранение матриц преобразований"
   ]
  },
  {
   "cell_type": "code",
   "execution_count": 10,
   "id": "a1fa3712",
   "metadata": {},
   "outputs": [],
   "source": [
    "matrices_dir_path = data_for_transform_path / \"transformation_matrices\""
   ]
  },
  {
   "cell_type": "code",
   "execution_count": 9,
   "id": "a5c7c4d2",
   "metadata": {},
   "outputs": [],
   "source": [
    "for root, dirs, files in os.walk(points_dir_path):\n",
    "    for filename in files:\n",
    "        if not filename.startswith(\".\"):\n",
    "            fullpath_to_file = os.path.join(root, filename)\n",
    "            if is_non_zero_file(fullpath_to_file):\n",
    "                points_src, points_dst = read_points_for_transform(fullpath_to_file)\n",
    "                M, status = cv2.findHomography(points_src, points_dst)\n",
    "\n",
    "                with open(\n",
    "                    matrices_dir_path / filename.replace(\"points.txt\", \"matrix.npy\"),\n",
    "                    \"wb\",\n",
    "                ) as f:\n",
    "                    np.save(f, M)"
   ]
  },
  {
   "cell_type": "markdown",
   "id": "de32810a",
   "metadata": {},
   "source": [
    "#### Вспомогательный скрипт для разметки (выделение пар точек) изображений"
   ]
  },
  {
   "cell_type": "code",
   "execution_count": 10,
   "id": "53f4f660",
   "metadata": {},
   "outputs": [],
   "source": [
    "cont_points_filepaths = collections.OrderedDict()"
   ]
  },
  {
   "cell_type": "code",
   "execution_count": 11,
   "id": "cca102a5",
   "metadata": {},
   "outputs": [],
   "source": [
    "def open_image_local(path_img):\n",
    "    Image.open(path_img).show()\n",
    "\n",
    "\n",
    "def open_txt_in_sublime(path_txt):\n",
    "    import subprocess\n",
    "\n",
    "    cmd = f\"open -a /Applications/Sublime\\ Text.app {path_txt}\"\n",
    "    p = subprocess.Popen(cmd, shell=True)\n",
    "    p.wait()\n",
    "\n",
    "\n",
    "def open_images_and_pointsfile(\n",
    "    target_points_filename, rgb_images_dir_path, th_images_dir_path, points_dir_path\n",
    "):\n",
    "    open_image_local(\n",
    "        rgb_images_dir_path / target_points_filename.replace(\"points.txt\", \"a.jpg\")\n",
    "    )\n",
    "    open_image_local(\n",
    "        th_images_dir_path / target_points_filename.replace(\"points.txt\", \"b.jpg\")\n",
    "    )\n",
    "    open_txt_in_sublime(points_dir_path / target_points_filename)"
   ]
  },
  {
   "cell_type": "code",
   "execution_count": 12,
   "id": "ac4a8104",
   "metadata": {},
   "outputs": [],
   "source": [
    "for root, dirs, files in os.walk(points_dir_path):\n",
    "    for filename in files:\n",
    "        if not filename.startswith(\".\"):\n",
    "            cont_points_filepaths[filename] = None\n",
    "\n",
    "cont_points_filepaths = collections.OrderedDict(sorted(cont_points_filepaths.items()))"
   ]
  },
  {
   "cell_type": "code",
   "execution_count": 13,
   "id": "7feb168f",
   "metadata": {},
   "outputs": [],
   "source": [
    "with open(\n",
    "    str(data_for_transform_path / \"markup_state.json\"),\n",
    "    \"r\",\n",
    ") as fp:\n",
    "    cont_points_filepaths = json.load(fp)"
   ]
  },
  {
   "cell_type": "code",
   "execution_count": 14,
   "id": "1b0f3713",
   "metadata": {},
   "outputs": [],
   "source": [
    "for filename in cont_points_filepaths:\n",
    "    if cont_points_filepaths[filename] is None:\n",
    "\n",
    "        print(\"Начало обработки файла: \", filename)\n",
    "\n",
    "        open_images_and_pointsfile(\n",
    "            filename, rgb_images_dir_path, th_images_dir_path, points_dir_path\n",
    "        )\n",
    "        a = int(input())\n",
    "        cont_points_filepaths[filename] = a\n",
    "\n",
    "        with open(\n",
    "            str(data_for_transform_path / \"markup_state.json\"),\n",
    "            \"w\",\n",
    "        ) as fp:\n",
    "            json.dump(cont_points_filepaths, fp)\n",
    "\n",
    "        # 1 — точки промаркированы\n",
    "        # 0 — пропуск\n",
    "        # 2 — временный пропуск\n",
    "        # 9 — код остановки\n",
    "\n",
    "        print(\"Обработка завершена, код: \", a)\n",
    "        print(\"---------------------------\")\n",
    "\n",
    "        if a == 9:\n",
    "            break"
   ]
  },
  {
   "cell_type": "markdown",
   "id": "8d587abc",
   "metadata": {},
   "source": [
    "#### Применение матриц для преобразований и сохранение в директорию для валидации"
   ]
  },
  {
   "cell_type": "code",
   "execution_count": 14,
   "id": "4ff4ba56",
   "metadata": {},
   "outputs": [],
   "source": [
    "validation_dir_path = main_path / \"validation\""
   ]
  },
  {
   "cell_type": "code",
   "execution_count": 16,
   "id": "95d59160",
   "metadata": {},
   "outputs": [],
   "source": [
    "for root, dirs, files in os.walk(rgb_images_dir_path):\n",
    "    for filename in files:\n",
    "        if not filename.startswith(\".\"):\n",
    "            exp_id = filename.replace(\"_a.jpg\", \"\")\n",
    "\n",
    "            print(\"Обработка: \", exp_id)\n",
    "\n",
    "            th_filename = exp_id + \"_b.jpg\"\n",
    "            rgb_img = cv2.cvtColor(\n",
    "                cv2.imread(str(rgb_images_dir_path / filename)), cv2.COLOR_BGR2RGB\n",
    "            )\n",
    "            th_img = cv2.imread(\n",
    "                str(th_images_dir_path / th_filename), cv2.IMREAD_GRAYSCALE\n",
    "            )\n",
    "            matrix, matrix_file = get_transformation_matrix(exp_id, matrices_dir_path)\n",
    "            th_img_res = perform_projective_transformation(th_img, rgb_img, matrix)\n",
    "            coords_face = get_coords_of_face_area(\n",
    "                cv2.cvtColor(rgb_img, cv2.COLOR_BGR2GRAY)\n",
    "            )\n",
    "            face_rgb = get_face_area(rgb_img, coords_face)\n",
    "            face_th = get_face_area(th_img_res, coords_face)\n",
    "\n",
    "            print(\"Успешно!\")\n",
    "            print()\n",
    "            print(\"---------------------------\")\n",
    "\n",
    "            fig = plt.figure(figsize=(10, 7))\n",
    "            fig.patch.set_facecolor(\"white\")\n",
    "\n",
    "            rows = 2\n",
    "            columns = 2\n",
    "\n",
    "            fig.add_subplot(rows, columns, 1)\n",
    "\n",
    "            fig.suptitle(f\"Experiment: {exp_id} (used matrix: {matrix_file})\")\n",
    "\n",
    "            plt.imshow(rgb_img)\n",
    "            plt.axis(\"off\")\n",
    "            plt.title(\"RGB\")\n",
    "\n",
    "            fig.add_subplot(rows, columns, 2)\n",
    "\n",
    "            plt.imshow(th_img_res, cmap=\"gray\")\n",
    "            plt.axis(\"off\")\n",
    "            plt.title(\"Thermal\")\n",
    "\n",
    "            fig.add_subplot(rows, columns, 3)\n",
    "\n",
    "            # showing image\n",
    "            plt.imshow(face_rgb)\n",
    "            plt.axis(\"off\")\n",
    "            plt.title(\"RGB Face\")\n",
    "\n",
    "            fig.add_subplot(rows, columns, 4)\n",
    "\n",
    "            plt.imshow(face_th, cmap=\"gray\")\n",
    "            plt.axis(\"off\")\n",
    "            plt.title(\"Thermal Face\")\n",
    "\n",
    "            plt.savefig(str(validation_dir_path / f\"{exp_id}.png\"))"
   ]
  },
  {
   "cell_type": "markdown",
   "id": "9de40e6d",
   "metadata": {},
   "source": [
    "#### Получение идентификаторов пар, не прошедших валидацию"
   ]
  },
  {
   "cell_type": "code",
   "execution_count": 13,
   "id": "7431a0d2",
   "metadata": {},
   "outputs": [],
   "source": [
    "validation_failed_dir_path = validation_dir_path / \"failed\""
   ]
  },
  {
   "cell_type": "code",
   "execution_count": 18,
   "id": "c543bf14",
   "metadata": {},
   "outputs": [],
   "source": [
    "failed_pairs = get_directory_file_list(validation_failed_dir_path)\n",
    "failed_pairs_points = [f.replace(\".png\", \"_points.txt\") for f in failed_pairs]"
   ]
  },
  {
   "cell_type": "code",
   "execution_count": 19,
   "id": "a83d0a5b",
   "metadata": {},
   "outputs": [],
   "source": [
    "len(failed_pairs_points)"
   ]
  },
  {
   "cell_type": "code",
   "execution_count": 20,
   "id": "c26aa74d",
   "metadata": {},
   "outputs": [],
   "source": [
    "with open(\n",
    "    str(data_for_transform_path / \"markup_state.json\"),\n",
    "    \"r\",\n",
    ") as fp:\n",
    "    cont_points_filepaths = json.load(fp)"
   ]
  },
  {
   "cell_type": "code",
   "execution_count": 21,
   "id": "75367cf7",
   "metadata": {},
   "outputs": [],
   "source": [
    "for filename in failed_pairs_points:\n",
    "    if cont_points_filepaths[filename] is None:\n",
    "\n",
    "        print(\"Начало обработки файла: \", filename)\n",
    "\n",
    "        open_images_and_pointsfile(\n",
    "            filename, rgb_images_dir_path, th_images_dir_path, points_dir_path\n",
    "        )\n",
    "        a = int(input())\n",
    "        cont_points_filepaths[filename] = a\n",
    "\n",
    "        with open(\n",
    "            str(data_for_transform_path / \"markup_state.json\"),\n",
    "            \"w\",\n",
    "        ) as fp:\n",
    "            json.dump(cont_points_filepaths, fp)\n",
    "\n",
    "        # 1 — точки промаркированы\n",
    "        # 0 — пропуск\n",
    "        # 2 — временный пропуск\n",
    "        # 9 — код остановки\n",
    "\n",
    "        print(\"Обработка завершена, код: \", a)\n",
    "        print(\"---------------------------\")\n",
    "\n",
    "        if a == 9:\n",
    "            break"
   ]
  },
  {
   "cell_type": "markdown",
   "id": "a2173b43",
   "metadata": {},
   "source": [
    "#### Копируем наиболее подходящие матрицы преобразований для пар, у которых они не заданы и которые прошли валидацию"
   ]
  },
  {
   "cell_type": "code",
   "execution_count": 11,
   "id": "aaafeba6",
   "metadata": {},
   "outputs": [],
   "source": [
    "copy_matrices_dir_path = main_path / \"copy_matrices\""
   ]
  },
  {
   "cell_type": "code",
   "execution_count": 23,
   "id": "d57b0a19",
   "metadata": {},
   "outputs": [],
   "source": [
    "for root, dirs, files in os.walk(points_dir_path):\n",
    "    for filename in files:\n",
    "        if not filename.startswith(\".\"):\n",
    "            fullpath_to_file = os.path.join(root, filename)\n",
    "            exp_id = filename.replace(\"_points.txt\", \"\")\n",
    "            target_matrix_file = filename.replace(\"points.txt\", \"matrix.npy\")\n",
    "\n",
    "            if not os.path.exists(str(matrices_dir_path / target_matrix_file)):\n",
    "                matrix_file = choose_transformation_matrix(exp_id, matrices_dir_path)\n",
    "                shutil.copyfile(\n",
    "                    str(matrices_dir_path / matrix_file),\n",
    "                    str(copy_matrices_dir_path / target_matrix_file),\n",
    "                )\n",
    "\n",
    "                print(exp_id)\n",
    "                print(matrix_file)\n",
    "                print(\"---\")"
   ]
  },
  {
   "cell_type": "markdown",
   "id": "026f4f5a",
   "metadata": {},
   "source": [
    "#### Скрипт для удаления матриц пар, для которых не размечены точки"
   ]
  },
  {
   "cell_type": "code",
   "execution_count": 24,
   "id": "6c940459",
   "metadata": {},
   "outputs": [],
   "source": [
    "for root, dirs, files in os.walk(points_dir_path):\n",
    "    for filename in files:\n",
    "        if not filename.startswith(\".\"):\n",
    "            fullpath_to_points_file = os.path.join(root, filename)\n",
    "            target_matrix_file = filename.replace(\"points.txt\", \"matrix.npy\")\n",
    "\n",
    "            if not is_non_zero_file(fullpath_to_points_file):\n",
    "                if os.path.exists(str(matrices_dir_path / target_matrix_file)):\n",
    "                    os.remove(str(matrices_dir_path / target_matrix_file))\n",
    "                    print(\"Файл удален!\")"
   ]
  },
  {
   "cell_type": "markdown",
   "id": "67363b8e",
   "metadata": {},
   "source": [
    "#### Применяем матрицы преобразований к тепловым изображениям и сохраняем результат"
   ]
  },
  {
   "cell_type": "code",
   "execution_count": 25,
   "id": "99bc3d93",
   "metadata": {},
   "outputs": [],
   "source": [
    "for root, dirs, files in os.walk(rgb_images_dir_path):\n",
    "    for filename in files:\n",
    "        if not filename.startswith(\".\"):\n",
    "            exp_id = filename.replace(\"_a.jpg\", \"\")\n",
    "\n",
    "            print(\"Обработка: \", exp_id)\n",
    "\n",
    "            th_filename = exp_id + \"_b.jpg\"\n",
    "            rgb_img = cv2.cvtColor(\n",
    "                cv2.imread(str(rgb_images_dir_path / filename)), cv2.COLOR_BGR2RGB\n",
    "            )\n",
    "            th_img = cv2.imread(\n",
    "                str(th_images_dir_path / th_filename), cv2.IMREAD_GRAYSCALE\n",
    "            )\n",
    "            matrix, matrix_file = get_transformation_matrix(exp_id, matrices_dir_path)\n",
    "            th_img_res = perform_projective_transformation(th_img, rgb_img, matrix)\n",
    "            cv2.imwrite(str(th_images_dir_path / th_filename), th_img_res)\n",
    "\n",
    "            print(\"Успешно!\")"
   ]
  },
  {
   "cell_type": "markdown",
   "id": "e8182861",
   "metadata": {},
   "source": [
    "#### Получаем и сохраняем лица в отдельные директории"
   ]
  },
  {
   "cell_type": "code",
   "execution_count": 27,
   "id": "883b7daf",
   "metadata": {},
   "outputs": [],
   "source": [
    "# failed_fd = [\"exp22_f_a_3a_x_e_a.jpg\", \"exp22_f_c_2a_x_e_a.jpg\", \"exp22_f_c_2b_x_e_a.jpg\"]"
   ]
  },
  {
   "cell_type": "code",
   "execution_count": 12,
   "id": "c3c1b01b",
   "metadata": {},
   "outputs": [],
   "source": [
    "rgb_face_images_dir_path = main_path / \"rgb\" / \"faces\"\n",
    "thermal_face_images_dir_path = main_path / \"thermal\" / \"faces\""
   ]
  },
  {
   "cell_type": "code",
   "execution_count": 15,
   "id": "4ae99db1",
   "metadata": {},
   "outputs": [],
   "source": [
    "for root, dirs, files in os.walk(rgb_images_dir_path):\n",
    "    for filename in files:\n",
    "        if not filename.startswith(\".\"):\n",
    "            exp_id = filename.replace(\"_a.jpg\", \"\")\n",
    "\n",
    "            print(\"Обработка: \", exp_id)\n",
    "\n",
    "            th_filename = exp_id + \"_b.jpg\"\n",
    "            rgb_img = cv2.cvtColor(\n",
    "                cv2.imread(str(rgb_images_dir_path / filename)), cv2.COLOR_BGR2RGB\n",
    "            )\n",
    "            th_img = cv2.imread(\n",
    "                str(th_images_dir_path / th_filename), cv2.IMREAD_GRAYSCALE\n",
    "            )\n",
    "            coords_face = get_coords_of_face_area(\n",
    "                cv2.cvtColor(rgb_img, cv2.COLOR_BGR2GRAY)\n",
    "            )\n",
    "            face_rgb = get_face_area(rgb_img, coords_face)\n",
    "            face_rgb = cv2.cvtColor(face_rgb, cv2.COLOR_BGR2RGB)\n",
    "            face_th = get_face_area(th_img, coords_face)\n",
    "\n",
    "            cv2.imwrite(str(rgb_face_images_dir_path / filename), face_rgb)\n",
    "            cv2.imwrite(str(thermal_face_images_dir_path / th_filename), face_th)\n",
    "\n",
    "            print(\"Успешно!\")\n",
    "            print(\"---------------------------\")\n",
    "            print()"
   ]
  },
  {
   "cell_type": "code",
   "execution_count": null,
   "id": "c41319e7",
   "metadata": {},
   "outputs": [],
   "source": []
  },
  {
   "cell_type": "code",
   "execution_count": null,
   "id": "541cde4a",
   "metadata": {},
   "outputs": [],
   "source": []
  }
 ],
 "metadata": {
  "kernelspec": {
   "display_name": "Python 3 (ipykernel)",
   "language": "python",
   "name": "python3"
  },
  "language_info": {
   "codemirror_mode": {
    "name": "ipython",
    "version": 3
   },
   "file_extension": ".py",
   "mimetype": "text/x-python",
   "name": "python",
   "nbconvert_exporter": "python",
   "pygments_lexer": "ipython3",
   "version": "3.9.10"
  }
 },
 "nbformat": 4,
 "nbformat_minor": 5
}
