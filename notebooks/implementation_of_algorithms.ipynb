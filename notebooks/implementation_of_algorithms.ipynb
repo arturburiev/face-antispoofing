{
 "cells": [
  {
   "cell_type": "markdown",
   "id": "d478f217",
   "metadata": {},
   "source": [
    "# Реализация алгоритмов"
   ]
  },
  {
   "cell_type": "markdown",
   "id": "115d0af4",
   "metadata": {},
   "source": [
    "## Импорт необходимых библиотек"
   ]
  },
  {
   "cell_type": "code",
   "execution_count": 149,
   "id": "0e7542f8",
   "metadata": {},
   "outputs": [],
   "source": [
    "import sys\n",
    "\n",
    "sys.path.insert(1, \"../\")\n",
    "\n",
    "import os\n",
    "import pathlib\n",
    "import collections\n",
    "\n",
    "import cv2\n",
    "import numpy as np\n",
    "import pandas as pd\n",
    "from PIL import Image\n",
    "import matplotlib.pyplot as plt\n",
    "from sklearn.svm import SVC\n",
    "from sklearn.preprocessing import StandardScaler\n",
    "from sklearn.model_selection import GridSearchCV\n",
    "from sklearn.model_selection import train_test_split\n",
    "from sklearn.metrics import (\n",
    "    accuracy_score,\n",
    "    recall_score,\n",
    "    precision_score,\n",
    "    f1_score,\n",
    "    roc_auc_score,\n",
    "    make_scorer\n",
    ")\n",
    "import mahotas\n",
    "\n",
    "from src.data.dataset_filenames import extract_type_face\n",
    "from src.data.utils import is_non_zero_file, get_directory_file_list, resize_img\n",
    "from src.features import (\n",
    "    haralick_rdwt_features,\n",
    "    dispersion_feature,\n",
    "    mean_feature,\n",
    "    median_feature,\n",
    "    maximum_feature,\n",
    "    minimum_feature,\n",
    "    fraction_pixels_for_interval_feature,\n",
    "    scatter_feature,\n",
    "    hist_feauture,\n",
    "    hist_gradient_feauture,\n",
    "    ratio_upper_lower_parts_feature,\n",
    "    haralick_rdwt_features_with_blockwise,\n",
    "    get_blocks,\n",
    "    calc_and_get_haralick,\n",
    "    lbp_hist_features,\n",
    "    calc_features,\n",
    ")\n",
    "from src.features.utils import apply_feature_funcs\n",
    "\n",
    "\n",
    "%matplotlib inline"
   ]
  },
  {
   "cell_type": "markdown",
   "id": "fa5dc0f1",
   "metadata": {},
   "source": [
    "## Загрузка изображений лиц"
   ]
  },
  {
   "cell_type": "code",
   "execution_count": 128,
   "id": "9a263af2",
   "metadata": {},
   "outputs": [],
   "source": [
    "path_to_dataset = pathlib.Path(\n",
    "    pathlib.Path.home(),\n",
    "    \"Projects\",\n",
    "    \"ml\",\n",
    "    \"datasets\",\n",
    "    \"FACE_ANTISPOOFING\",\n",
    "    \"FACE_ANTISPOOFING_FACES\",\n",
    ")\n",
    "path_to_dataset_rgb_faces = path_to_dataset / \"rgb\"\n",
    "path_to_dataset_th_faces = path_to_dataset / \"thermal\""
   ]
  },
  {
   "cell_type": "markdown",
   "id": "a9b2e683",
   "metadata": {},
   "source": [
    "### Функция для загрузки изображений датасета с мета-информацией"
   ]
  },
  {
   "cell_type": "code",
   "execution_count": 129,
   "id": "53c4a708",
   "metadata": {},
   "outputs": [],
   "source": [
    "def load_dataset_objects(path, img_size=(312, 312), cv_mode=cv2.COLOR_BGR2RGB):\n",
    "    result = {\"filenames\": [], \"images\": [], \"subclasses\": [], \"classes\": []}\n",
    "\n",
    "    for root, dirs, files in os.walk(path):\n",
    "        for filename in files:\n",
    "            if not filename.startswith(\".\"):\n",
    "                result[\"filenames\"].append(filename)\n",
    "\n",
    "                image = cv2.imread(os.path.join(root, filename))\n",
    "                image = cv2.cvtColor(image, cv_mode)\n",
    "                image = resize_img(image, img_size)\n",
    "                result[\"images\"].append(image)\n",
    "\n",
    "                result[\"subclasses\"].append(extract_type_face(filename))\n",
    "                result[\"classes\"].append(int(\"a\" in result[\"subclasses\"][-1]))\n",
    "\n",
    "    return result"
   ]
  },
  {
   "cell_type": "markdown",
   "id": "a3e53a16",
   "metadata": {},
   "source": [
    "## Загрузка RGB-изображений лиц"
   ]
  },
  {
   "cell_type": "code",
   "execution_count": 130,
   "id": "da16e766",
   "metadata": {},
   "outputs": [],
   "source": [
    "rgb_data = load_dataset_objects(path_to_dataset_rgb_faces)"
   ]
  },
  {
   "cell_type": "markdown",
   "id": "fe73920c",
   "metadata": {},
   "source": [
    "## Загрузка тепловых изображений лиц"
   ]
  },
  {
   "cell_type": "code",
   "execution_count": 131,
   "id": "bf57a12b",
   "metadata": {},
   "outputs": [],
   "source": [
    "th_data = load_dataset_objects(path_to_dataset_th_faces, cv_mode=cv2.COLOR_BGR2GRAY)"
   ]
  },
  {
   "cell_type": "markdown",
   "id": "33b1424f",
   "metadata": {},
   "source": [
    "## Сортировка загруженных данных"
   ]
  },
  {
   "cell_type": "code",
   "execution_count": 132,
   "id": "78be0cc1",
   "metadata": {},
   "outputs": [],
   "source": [
    "rgb_sorted_indices = np.argsort(rgb_data[\"filenames\"])\n",
    "rgb_data[\"filenames\"] = np.array(rgb_data[\"filenames\"])[rgb_sorted_indices]\n",
    "rgb_data[\"images\"] = np.array(rgb_data[\"images\"])[rgb_sorted_indices]\n",
    "rgb_data[\"classes\"] = np.array(rgb_data[\"classes\"])[rgb_sorted_indices]\n",
    "\n",
    "th_sorted_indices = np.argsort(th_data[\"filenames\"])\n",
    "th_data[\"filenames\"] = np.array(th_data[\"filenames\"])[th_sorted_indices]\n",
    "th_data[\"images\"] = np.array(th_data[\"images\"])[th_sorted_indices]\n",
    "th_data[\"classes\"] = np.array(th_data[\"classes\"])[th_sorted_indices]\n",
    "\n",
    "classes = rgb_data[\"classes\"].copy()"
   ]
  },
  {
   "cell_type": "markdown",
   "id": "aeb6b427",
   "metadata": {},
   "source": [
    "## Пример одного образца из датасета"
   ]
  },
  {
   "cell_type": "code",
   "execution_count": 133,
   "id": "a502080a",
   "metadata": {},
   "outputs": [],
   "source": [
    "# plt.imshow(rgb_data[\"images\"][52])\n",
    "# plt.show()\n",
    "# plt.imshow(th_data[\"images\"][52], cmap=\"gray\")\n",
    "# plt.show()"
   ]
  },
  {
   "cell_type": "markdown",
   "id": "efe2e9ce",
   "metadata": {},
   "source": [
    "## Метрики"
   ]
  },
  {
   "cell_type": "code",
   "execution_count": 134,
   "id": "dc30b781",
   "metadata": {},
   "outputs": [],
   "source": [
    "def BPCER_score(y_true, y_pred):\n",
    "    y_true = y_true.astype(np.bool_)\n",
    "    y_pred = y_pred.astype(np.bool_)\n",
    "    return sum(y_pred & ~y_true) / len(y_true[np.where(y_true == False)])\n",
    "\n",
    "\n",
    "def APCER_score(y_true, y_pred):\n",
    "    y_true = y_true.astype(np.bool_)\n",
    "    y_pred = y_pred.astype(np.bool_)\n",
    "    return sum(~y_pred & y_true) / len(y_true[np.where(y_true == True)])\n",
    "\n",
    "\n",
    "def ACER_score(y_true, y_pred):\n",
    "    APCER = APCER_score(y_true, y_pred)\n",
    "    BPCER = BPCER_score(y_true, y_pred)\n",
    "    ACER = (APCER + BPCER) / 2\n",
    "    return ACER"
   ]
  },
  {
   "cell_type": "markdown",
   "id": "64b6a8c8",
   "metadata": {},
   "source": [
    "### Функция, возвращающая значения различных метрик"
   ]
  },
  {
   "cell_type": "code",
   "execution_count": 135,
   "id": "ac6ab68e",
   "metadata": {},
   "outputs": [],
   "source": [
    "def get_metric_values(y_true, y_pred, pos_label=1):\n",
    "    return {\n",
    "        \"APCER\": APCER_score(y_true, y_pred),\n",
    "        \"BPCER\": BPCER_score(y_true, y_pred),\n",
    "        \"ACER\": ACER_score(y_true, y_pred),\n",
    "        \"AUC ROC\": roc_auc_score(\n",
    "            y_true,\n",
    "            y_pred,\n",
    "            average=\"weighted\",\n",
    "        ),\n",
    "        \"Precision\": precision_score(\n",
    "            y_true, y_pred, average=\"binary\", pos_label=pos_label\n",
    "        ),\n",
    "        \"Recall\": recall_score(y_true, y_pred, average=\"binary\", pos_label=pos_label),\n",
    "        \"F1-Measure\": f1_score(y_true, y_pred, average=\"binary\", pos_label=pos_label),\n",
    "    }"
   ]
  },
  {
   "cell_type": "code",
   "execution_count": 136,
   "id": "0485905d",
   "metadata": {},
   "outputs": [],
   "source": [
    "path_to_metrics_result = \"../reports/tables/metrics_report_work.csv\""
   ]
  },
  {
   "cell_type": "code",
   "execution_count": 137,
   "id": "4d66ece8",
   "metadata": {},
   "outputs": [],
   "source": [
    "if os.path.exists(path_to_metrics_result):\n",
    "    measured_metrics = pd.read_csv(path_to_metrics_result)\n",
    "else:\n",
    "    measured_metrics = pd.DataFrame(\n",
    "        {\"Metric\": [\"APCER\", \"BPCER\", \"ACER\", \"AUC ROC\", \"Precision\", \"Recall\", \"F1-Measure\"]}\n",
    "    )"
   ]
  },
  {
   "cell_type": "code",
   "execution_count": 138,
   "id": "cf8db982",
   "metadata": {},
   "outputs": [
    {
     "data": {
      "text/html": [
       "<div>\n",
       "<style scoped>\n",
       "    .dataframe tbody tr th:only-of-type {\n",
       "        vertical-align: middle;\n",
       "    }\n",
       "\n",
       "    .dataframe tbody tr th {\n",
       "        vertical-align: top;\n",
       "    }\n",
       "\n",
       "    .dataframe thead th {\n",
       "        text-align: right;\n",
       "    }\n",
       "</style>\n",
       "<table border=\"1\" class=\"dataframe\">\n",
       "  <thead>\n",
       "    <tr style=\"text-align: right;\">\n",
       "      <th></th>\n",
       "      <th>Metric</th>\n",
       "    </tr>\n",
       "  </thead>\n",
       "  <tbody>\n",
       "    <tr>\n",
       "      <th>0</th>\n",
       "      <td>APCER</td>\n",
       "    </tr>\n",
       "    <tr>\n",
       "      <th>1</th>\n",
       "      <td>BPCER</td>\n",
       "    </tr>\n",
       "    <tr>\n",
       "      <th>2</th>\n",
       "      <td>ACER</td>\n",
       "    </tr>\n",
       "    <tr>\n",
       "      <th>3</th>\n",
       "      <td>AUC ROC</td>\n",
       "    </tr>\n",
       "    <tr>\n",
       "      <th>4</th>\n",
       "      <td>Precision</td>\n",
       "    </tr>\n",
       "  </tbody>\n",
       "</table>\n",
       "</div>"
      ],
      "text/plain": [
       "      Metric\n",
       "0      APCER\n",
       "1      BPCER\n",
       "2       ACER\n",
       "3    AUC ROC\n",
       "4  Precision"
      ]
     },
     "execution_count": 138,
     "metadata": {},
     "output_type": "execute_result"
    }
   ],
   "source": [
    "measured_metrics.head()"
   ]
  },
  {
   "cell_type": "markdown",
   "id": "516db4f8",
   "metadata": {},
   "source": [
    "## Разбиение набора данных на тренировочную и тестовую выборки"
   ]
  },
  {
   "cell_type": "code",
   "execution_count": 15,
   "id": "d4dcd8fe",
   "metadata": {},
   "outputs": [],
   "source": [
    "# X = []\n",
    "# y = classes.copy()\n",
    "\n",
    "# for rgb_img, th_img in zip(rgb_data[\"images\"], th_data[\"images\"]):\n",
    "#     X.append({\"rgb\": rgb_img, \"thermal\": th_img})"
   ]
  },
  {
   "cell_type": "code",
   "execution_count": 16,
   "id": "3ed388d4",
   "metadata": {},
   "outputs": [],
   "source": [
    "# X_train, X_test, y_train, y_test = train_test_split(X, y, random_state=42)"
   ]
  },
  {
   "cell_type": "markdown",
   "id": "06cbb414",
   "metadata": {},
   "source": [
    "## Алгоритм RGB-RDWT-Haralick-SVM with block-wise"
   ]
  },
  {
   "cell_type": "code",
   "execution_count": 15,
   "id": "3e966538",
   "metadata": {},
   "outputs": [],
   "source": [
    "X = []\n",
    "y = classes.copy()\n",
    "\n",
    "for img in rgb_data[\"images\"]:\n",
    "    X.append(\n",
    "        calc_features(\n",
    "            [img[:, :, 0], img[:, :, 1], img[:, :, 2]], [haralick_rdwt_features], 9\n",
    "        )\n",
    "    )\n",
    "\n",
    "X = np.array(X)\n",
    "y = np.array(y)\n",
    "\n",
    "X_train, X_test, y_train, y_test = train_test_split(X, y, random_state=42)\n",
    "scaler = StandardScaler()\n",
    "X_train_scaled = scaler.fit_transform(X_train)\n",
    "X_test_scaled = scaler.transform(X_test)\n",
    "\n",
    "svc_lin = SVC(kernel=\"linear\", C=1e2)\n",
    "svc_lin.fit(X_train_scaled, y_train)\n",
    "y_pred = svc_lin.predict(X_test_scaled)\n",
    "\n",
    "measured_metrics[\"RGB-RDWT-Haralick-SVM\"] = get_metric_values(y_test, y_pred).values()"
   ]
  },
  {
   "cell_type": "markdown",
   "id": "85ed8d27",
   "metadata": {},
   "source": [
    "## Алгоритм Thermal-RDWT-Haralick-SVM with block-wise"
   ]
  },
  {
   "cell_type": "code",
   "execution_count": 16,
   "id": "bd5f0522",
   "metadata": {},
   "outputs": [],
   "source": [
    "X = []\n",
    "y = classes.copy()\n",
    "\n",
    "for img in th_data[\"images\"]:\n",
    "    X.append(calc_features([img], [haralick_rdwt_features], 9))\n",
    "\n",
    "X = np.array(X)\n",
    "y = np.array(y)\n",
    "\n",
    "X_train, X_test, y_train, y_test = train_test_split(X, y, random_state=42)\n",
    "scaler = StandardScaler()\n",
    "X_train_scaled = scaler.fit_transform(X_train)\n",
    "X_test_scaled = scaler.transform(X_test)\n",
    "\n",
    "svc_lin = SVC(kernel=\"linear\", C=1e2)\n",
    "svc_lin.fit(X_train_scaled, y_train)\n",
    "y_pred = svc_lin.predict(X_test_scaled)\n",
    "\n",
    "measured_metrics[\"Thermal-RDWT-Haralick-SVM\"] = get_metric_values(\n",
    "    y_test, y_pred\n",
    ").values()"
   ]
  },
  {
   "cell_type": "markdown",
   "id": "27ec32c7",
   "metadata": {},
   "source": [
    "## Алгоритм MC(RGB+Thermal)-RDWT-Haralick-SVM with block-wise"
   ]
  },
  {
   "cell_type": "code",
   "execution_count": 17,
   "id": "b0d815a8",
   "metadata": {},
   "outputs": [],
   "source": [
    "X = []\n",
    "y = classes.copy()\n",
    "\n",
    "for rgb_img, th_img in zip(rgb_data[\"images\"], th_data[\"images\"]):\n",
    "    X.append(\n",
    "        calc_features(\n",
    "            [rgb_img[:, :, 0], rgb_img[:, :, 1], rgb_img[:, :, 2], th_img],\n",
    "            [haralick_rdwt_features],\n",
    "            9,\n",
    "        )\n",
    "    )\n",
    "\n",
    "X = np.array(X)\n",
    "y = np.array(y)\n",
    "\n",
    "X_train, X_test, y_train, y_test = train_test_split(X, y, random_state=42)\n",
    "scaler = StandardScaler()\n",
    "X_train_scaled = scaler.fit_transform(X_train)\n",
    "X_test_scaled = scaler.transform(X_test)\n",
    "\n",
    "svc_lin = SVC(kernel=\"linear\", C=1e2)\n",
    "svc_lin.fit(X_train_scaled, y_train)\n",
    "y_pred = svc_lin.predict(X_test_scaled)\n",
    "\n",
    "measured_metrics[\"MC-RDWT-Haralick-SVM\"] = get_metric_values(y_test, y_pred).values()"
   ]
  },
  {
   "cell_type": "markdown",
   "id": "cbe61674",
   "metadata": {},
   "source": [
    "## Алгоритм Grayscale(RGB)-LBP-SVM"
   ]
  },
  {
   "cell_type": "code",
   "execution_count": 120,
   "id": "1f377726",
   "metadata": {},
   "outputs": [],
   "source": [
    "X = []\n",
    "y = classes.copy()\n",
    "\n",
    "for img in rgb_data[\"images\"]:\n",
    "    gray_rgb_img = cv2.cvtColor(img, cv2.COLOR_RGB2GRAY)\n",
    "    X.append(calc_features([gray_rgb_img], [lbp_hist_features], 9))\n",
    "\n",
    "X = np.array(X)\n",
    "y = np.array(y)\n",
    "\n",
    "X_train, X_test, y_train, y_test = train_test_split(X, y, random_state=42)\n",
    "scaler = StandardScaler()\n",
    "X_train_scaled = scaler.fit_transform(X_train)\n",
    "X_test_scaled = scaler.transform(X_test)\n",
    "\n",
    "svc_lin = SVC(kernel=\"linear\", C=1e2)\n",
    "svc_lin.fit(X_train_scaled, y_train)\n",
    "y_pred = svc_lin.predict(X_test_scaled)\n",
    "\n",
    "measured_metrics[\"Grayscale(RGB)-LBP-SVM\"] = get_metric_values(y_test, y_pred).values()"
   ]
  },
  {
   "cell_type": "markdown",
   "id": "3d210e88",
   "metadata": {},
   "source": [
    "## Алгоритм Thermal-LBP-SVM"
   ]
  },
  {
   "cell_type": "code",
   "execution_count": 114,
   "id": "36eb3220",
   "metadata": {},
   "outputs": [],
   "source": [
    "X = []\n",
    "y = classes.copy()\n",
    "\n",
    "for img in th_data[\"images\"]:\n",
    "    X.append(calc_features([img], [lbp_hist_features], 9))\n",
    "\n",
    "X = np.array(X)\n",
    "y = np.array(y)\n",
    "\n",
    "X_train, X_test, y_train, y_test = train_test_split(X, y, random_state=42)\n",
    "scaler = StandardScaler()\n",
    "X_train_scaled = scaler.fit_transform(X_train)\n",
    "X_test_scaled = scaler.transform(X_test)\n",
    "\n",
    "svc_lin = SVC(kernel=\"linear\", C=1e2)\n",
    "svc_lin.fit(X_train_scaled, y_train)\n",
    "y_pred = svc_lin.predict(X_test_scaled)\n",
    "\n",
    "measured_metrics[\"Thermal-LBP-SVM\"] = get_metric_values(y_test, y_pred).values()"
   ]
  },
  {
   "cell_type": "markdown",
   "id": "5d9e7ad6",
   "metadata": {},
   "source": [
    "## Алгоритм RGB-LBP-SVM"
   ]
  },
  {
   "cell_type": "code",
   "execution_count": 19,
   "id": "d2171087",
   "metadata": {},
   "outputs": [],
   "source": [
    "X = []\n",
    "y = classes.copy()\n",
    "\n",
    "for rgb_img in rgb_data[\"images\"]:\n",
    "    X.append(\n",
    "        calc_features(\n",
    "            [rgb_img[:, :, 0], rgb_img[:, :, 1], rgb_img[:, :, 2]],\n",
    "            [lbp_hist_features],\n",
    "            9,\n",
    "        )\n",
    "    )\n",
    "\n",
    "X = np.array(X)\n",
    "y = np.array(y)\n",
    "\n",
    "X_train, X_test, y_train, y_test = train_test_split(X, y, random_state=42)\n",
    "scaler = StandardScaler()\n",
    "X_train_scaled = scaler.fit_transform(X_train)\n",
    "X_test_scaled = scaler.transform(X_test)\n",
    "\n",
    "svc_lin = SVC(kernel=\"linear\", C=1e2)\n",
    "svc_lin.fit(X_train_scaled, y_train)\n",
    "y_pred = svc_lin.predict(X_test_scaled)\n",
    "\n",
    "measured_metrics[\"RGB-LBP-SVM\"] = get_metric_values(y_test, y_pred).values()"
   ]
  },
  {
   "cell_type": "markdown",
   "id": "c3cd6437",
   "metadata": {},
   "source": [
    "## Алгоритм MC(RGB+Thermal)-LBP-SVM"
   ]
  },
  {
   "cell_type": "code",
   "execution_count": 123,
   "id": "8e7cb04f",
   "metadata": {},
   "outputs": [],
   "source": [
    "X = []\n",
    "y = classes.copy()\n",
    "\n",
    "for rgb_img, th_img in zip(rgb_data[\"images\"], th_data[\"images\"]):\n",
    "    X.append(\n",
    "        calc_features(\n",
    "            [rgb_img[:, :, 0], rgb_img[:, :, 1], rgb_img[:, :, 2], th_img],\n",
    "            [lbp_hist_features],\n",
    "            9,\n",
    "        )\n",
    "    )\n",
    "\n",
    "X = np.array(X)\n",
    "y = np.array(y)\n",
    "\n",
    "X_train, X_test, y_train, y_test = train_test_split(X, y, random_state=42)\n",
    "scaler = StandardScaler()\n",
    "X_train_scaled = scaler.fit_transform(X_train)\n",
    "X_test_scaled = scaler.transform(X_test)\n",
    "\n",
    "svc_lin = SVC(kernel=\"linear\", C=1e2)\n",
    "svc_lin.fit(X_train_scaled, y_train)\n",
    "y_pred = svc_lin.predict(X_test_scaled)\n",
    "\n",
    "measured_metrics[\"MC-LBP-SVM\"] = get_metric_values(y_test, y_pred).values()"
   ]
  },
  {
   "cell_type": "markdown",
   "id": "7f90d899",
   "metadata": {},
   "source": [
    "## Алгоритм MC-TAS-SVM with block-wise"
   ]
  },
  {
   "cell_type": "code",
   "execution_count": 229,
   "id": "4818f1c1",
   "metadata": {},
   "outputs": [],
   "source": [
    "def pftas_warp(img, T = 30):\n",
    "    return mahotas.features.pftas(img, T)\n",
    "\n",
    "# feature_funcs = [mahotas.features.pftas]\n",
    "feature_funcs = [pftas_warp]\n",
    "\n",
    "X = []\n",
    "y = classes.copy()\n",
    "\n",
    "for rgb_img, th_img in zip(rgb_data[\"images\"], th_data[\"images\"]):\n",
    "    gray_rgb_img = cv2.cvtColor(rgb_img, cv2.COLOR_RGB2GRAY)\n",
    "    X.append(\n",
    "        calc_features(\n",
    "#             channels=[rgb_img[:, :, 0], rgb_img[:, :, 1], rgb_img[:, :, 2], th_img],\n",
    "#             channels=[gray_rgb_img],\n",
    "#             channels=[rgb_img[:, :, 0], rgb_img[:, :, 1], rgb_img[:, :, 2]],\n",
    "            channels=[th_img],\n",
    "            feature_funcs=feature_funcs,\n",
    "            blockwise=9\n",
    "        )\n",
    "    )\n",
    "\n",
    "X = np.array(X)\n",
    "y = np.array(y)\n",
    "\n",
    "X_train, X_test, y_train, y_test = train_test_split(X, y, random_state=42)\n",
    "\n",
    "grid_mc_tas_svc = GridSearchCV(\n",
    "    estimator=SVC(),\n",
    "    scoring='f1',\n",
    "    param_grid={\n",
    "        \"C\": [1e-3, 1e-2, 1e-1, 1, 10e2, 1e3],\n",
    "        \"kernel\": (\"linear\", \"rbf\"),\n",
    "    },\n",
    ")\n",
    "grid_mc_tas_svc.fit(X_train, y_train)\n",
    "print(\"Best estimator: \", grid_mc_tas_svc.best_estimator_)\n",
    "svc = grid_mc_tas_svc\n",
    "\n",
    "y_pred = svc.predict(X_test)\n",
    "\n",
    "measured_metrics[\"MC-TAS-SVM\"] = get_metric_values(y_test, y_pred).values()"
   ]
  },
  {
   "cell_type": "markdown",
   "id": "ae259d94",
   "metadata": {},
   "source": [
    "## Алгоритм Grayscale(RGB)-TAS-SVM with block-wise"
   ]
  },
  {
   "cell_type": "code",
   "execution_count": 35,
   "id": "bb71466b",
   "metadata": {},
   "outputs": [],
   "source": [
    "feature_funcs = [mahotas.features.tas]\n",
    "\n",
    "X = []\n",
    "y = classes.copy()\n",
    "\n",
    "for rgb_img, th_img in zip(rgb_data[\"images\"], th_data[\"images\"]):\n",
    "    gray_rgb_img = cv2.cvtColor(rgb_img, cv2.COLOR_RGB2GRAY)\n",
    "    X.append(\n",
    "        calc_features(\n",
    "            [gray_rgb_img],\n",
    "            feature_funcs,\n",
    "            9\n",
    "        )\n",
    "    )\n",
    "\n",
    "X = np.array(X)\n",
    "y = np.array(y)\n",
    "\n",
    "X_train, X_test, y_train, y_test = train_test_split(X, y, random_state=42)\n",
    "\n",
    "\n",
    "svc = SVC(kernel=\"linear\", C=1e1)\n",
    "svc.fit(X_train, y_train)\n",
    "\n",
    "y_pred = svc.predict(X_test)\n",
    "\n",
    "measured_metrics[\"Grayscale(RGB)-TAS-SVM\"] = get_metric_values(y_test, y_pred).values()"
   ]
  },
  {
   "cell_type": "markdown",
   "id": "c3c5ccca",
   "metadata": {},
   "source": [
    "## Алгоритм RGB-TAS-SVM with block-wise"
   ]
  },
  {
   "cell_type": "code",
   "execution_count": 41,
   "id": "53b814ad",
   "metadata": {},
   "outputs": [],
   "source": [
    "feature_funcs = [mahotas.features.tas]\n",
    "\n",
    "X = []\n",
    "y = classes.copy()\n",
    "\n",
    "for rgb_img, th_img in zip(rgb_data[\"images\"], th_data[\"images\"]):\n",
    "    X.append(\n",
    "        calc_features(\n",
    "            [rgb_img[:, :, 0], rgb_img[:, :, 1], rgb_img[:, :, 2]],\n",
    "            feature_funcs,\n",
    "            9\n",
    "        )\n",
    "    )\n",
    "\n",
    "X = np.array(X)\n",
    "y = np.array(y)\n",
    "\n",
    "X_train, X_test, y_train, y_test = train_test_split(X, y, random_state=42)\n",
    "\n",
    "\n",
    "svc = SVC(kernel=\"linear\", C=1e1)\n",
    "svc.fit(X_train, y_train)\n",
    "\n",
    "y_pred = svc.predict(X_test)\n",
    "\n",
    "measured_metrics[\"RGB-TAS-SVM\"] = get_metric_values(y_test, y_pred).values()"
   ]
  },
  {
   "cell_type": "markdown",
   "id": "8f63ce56",
   "metadata": {},
   "source": [
    "## Алгоритм Thermal-TAS-SVM with block-wise"
   ]
  },
  {
   "cell_type": "code",
   "execution_count": 56,
   "id": "5a24a3c6",
   "metadata": {},
   "outputs": [],
   "source": [
    "feature_funcs = [mahotas.features.tas]\n",
    "\n",
    "X = []\n",
    "y = classes.copy()\n",
    "\n",
    "for rgb_img, th_img in zip(rgb_data[\"images\"], th_data[\"images\"]):\n",
    "    X.append(\n",
    "        calc_features(\n",
    "            [th_img],\n",
    "            feature_funcs,\n",
    "            9\n",
    "        )\n",
    "    )\n",
    "\n",
    "X = np.array(X)\n",
    "y = np.array(y)\n",
    "\n",
    "X_train, X_test, y_train, y_test = train_test_split(X, y, random_state=42)\n",
    "\n",
    "svc = SVC(kernel=\"linear\", C=1e1)\n",
    "svc.fit(X_train, y_train)\n",
    "\n",
    "y_pred = svc.predict(X_test)\n",
    "\n",
    "measured_metrics[\"Thermal-TAS-SVM\"] = get_metric_values(y_test, y_pred).values()"
   ]
  },
  {
   "cell_type": "code",
   "execution_count": null,
   "id": "e0b33ac2",
   "metadata": {},
   "outputs": [],
   "source": []
  }
 ],
 "metadata": {
  "kernelspec": {
   "display_name": "Python 3 (ipykernel)",
   "language": "python",
   "name": "python3"
  },
  "language_info": {
   "codemirror_mode": {
    "name": "ipython",
    "version": 3
   },
   "file_extension": ".py",
   "mimetype": "text/x-python",
   "name": "python",
   "nbconvert_exporter": "python",
   "pygments_lexer": "ipython3",
   "version": "3.9.10"
  }
 },
 "nbformat": 4,
 "nbformat_minor": 5
}
