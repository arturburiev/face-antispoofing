{
 "cells": [
  {
   "cell_type": "markdown",
   "id": "b52d0956",
   "metadata": {},
   "source": [
    "# Реализация алгоритмов"
   ]
  },
  {
   "cell_type": "markdown",
   "id": "63b7035a",
   "metadata": {},
   "source": [
    "### Импорт необходимых библиотек"
   ]
  },
  {
   "cell_type": "code",
   "execution_count": 1,
   "id": "3cefe734",
   "metadata": {},
   "outputs": [],
   "source": [
    "import sys\n",
    "\n",
    "sys.path.insert(1, \"../\")\n",
    "\n",
    "import os\n",
    "import pathlib\n",
    "import collections\n",
    "\n",
    "import cv2\n",
    "import numpy as np\n",
    "import pandas as pd\n",
    "from PIL import Image\n",
    "import matplotlib.pyplot as plt\n",
    "from sklearn.svm import SVC\n",
    "from sklearn.preprocessing import StandardScaler\n",
    "from sklearn.model_selection import GridSearchCV\n",
    "from sklearn.model_selection import train_test_split\n",
    "from sklearn.metrics import (\n",
    "    accuracy_score,\n",
    "    recall_score,\n",
    "    precision_score,\n",
    "    f1_score,\n",
    "    roc_auc_score,\n",
    ")\n",
    "\n",
    "from src.data.dataset_filenames import extract_type_face\n",
    "from src.data.utils import is_non_zero_file, get_directory_file_list, resize_img\n",
    "from src.features import (\n",
    "    haralick_rdwt_features,\n",
    "    dispersion_feature,\n",
    "    mean_feature,\n",
    "    median_feature,\n",
    "    maximum_feature,\n",
    "    minimum_feature,\n",
    "    fraction_pixels_for_interval_feature,\n",
    "    scatter_feature,\n",
    "    hist_feauture,\n",
    "    hist_gradient_feauture,\n",
    "    ratio_upper_lower_parts_feature,\n",
    ")\n",
    "from src.features.utils import apply_feature_funcs\n",
    "\n",
    "\n",
    "%matplotlib inline"
   ]
  },
  {
   "cell_type": "markdown",
   "id": "3ead46e3",
   "metadata": {},
   "source": [
    "### Загрузка изображений лиц"
   ]
  },
  {
   "cell_type": "code",
   "execution_count": 2,
   "id": "5456c4b9",
   "metadata": {},
   "outputs": [],
   "source": [
    "path_to_dataset = pathlib.Path(\n",
    "    pathlib.Path.home(),\n",
    "    \"Projects\",\n",
    "    \"ml\",\n",
    "    \"datasets\",\n",
    "    \"FACE_ANTISPOOFING\",\n",
    "    \"FACE_ANTISPOOFING_FACES\",\n",
    ")\n",
    "path_to_dataset_rgb_faces = path_to_dataset / \"rgb\"\n",
    "path_to_dataset_th_faces = path_to_dataset / \"thermal\""
   ]
  },
  {
   "cell_type": "markdown",
   "id": "c14a7e5f",
   "metadata": {},
   "source": [
    "#### Функция для загрузки изображений датасета с мета-информацией"
   ]
  },
  {
   "cell_type": "code",
   "execution_count": 3,
   "id": "87effc6c",
   "metadata": {},
   "outputs": [],
   "source": [
    "def load_dataset_objects(path, img_size=(312, 312), cv_mode=cv2.COLOR_BGR2RGB):\n",
    "    result = {\"filenames\": [], \"images\": [], \"subclasses\": [], \"classes\": []}\n",
    "\n",
    "    for root, dirs, files in os.walk(path):\n",
    "        for filename in files:\n",
    "            if not filename.startswith(\".\"):\n",
    "                result[\"filenames\"].append(filename)\n",
    "                \n",
    "                image = cv2.imread(os.path.join(root, filename))\n",
    "                image = cv2.cvtColor(image, cv_mode)\n",
    "                image = resize_img(image, img_size)\n",
    "                result[\"images\"].append(image)\n",
    "                \n",
    "                result[\"subclasses\"].append(extract_type_face(filename))\n",
    "                result[\"classes\"].append(int(\"a\" in result[\"subclasses\"][-1]))\n",
    "\n",
    "    return result"
   ]
  },
  {
   "cell_type": "markdown",
   "id": "6caf55ea",
   "metadata": {},
   "source": [
    "#### Загрузка RGB-изображений лиц"
   ]
  },
  {
   "cell_type": "code",
   "execution_count": 4,
   "id": "e00f2bfc",
   "metadata": {},
   "outputs": [],
   "source": [
    "rgb_data = load_dataset_objects(path_to_dataset_rgb_faces)"
   ]
  },
  {
   "cell_type": "code",
   "execution_count": 5,
   "id": "33a71669",
   "metadata": {},
   "outputs": [],
   "source": [
    "# plt.imshow(rgb_data[\"images\"][0])"
   ]
  },
  {
   "cell_type": "markdown",
   "id": "6a8c2f0f",
   "metadata": {},
   "source": [
    "#### Загрузка Thermal-изображений лиц"
   ]
  },
  {
   "cell_type": "code",
   "execution_count": 6,
   "id": "9456dede",
   "metadata": {},
   "outputs": [],
   "source": [
    "th_data = load_dataset_objects(path_to_dataset_th_faces, cv_mode = cv2.COLOR_BGR2GRAY)"
   ]
  },
  {
   "cell_type": "code",
   "execution_count": 7,
   "id": "a1d7414a",
   "metadata": {},
   "outputs": [],
   "source": [
    "# plt.imshow(th_data[\"images\"][0], cmap=\"gray\")"
   ]
  },
  {
   "cell_type": "markdown",
   "id": "544ec226",
   "metadata": {},
   "source": [
    "### Функция для расчета метрик"
   ]
  },
  {
   "cell_type": "code",
   "execution_count": 44,
   "id": "2036194b",
   "metadata": {},
   "outputs": [],
   "source": [
    "def FAR_score(y_true, y_pred):\n",
    "    y_true = y_true.astype(bool)\n",
    "    y_pred = y_pred.astype(bool)\n",
    "    return sum(y_pred & ~y_true) / len(y_true[np.where(y_true == False)])"
   ]
  },
  {
   "cell_type": "code",
   "execution_count": 45,
   "id": "59c4ff05",
   "metadata": {},
   "outputs": [],
   "source": [
    "def FRR_score(y_true, y_pred):\n",
    "    y_true = y_true.astype(bool)\n",
    "    y_pred = y_pred.astype(bool)\n",
    "    return sum(~y_pred & y_true) / len(y_true[np.where(y_true == True)])"
   ]
  },
  {
   "cell_type": "code",
   "execution_count": 47,
   "id": "3afbac43",
   "metadata": {},
   "outputs": [],
   "source": [
    "def HTER_score(y_true, y_pred):\n",
    "    far = FAR_score(y_true, y_pred)\n",
    "    frr = FRR_score(y_true, y_pred)\n",
    "    hter=(far+frr)/2\n",
    "    return hter"
   ]
  },
  {
   "cell_type": "code",
   "execution_count": 74,
   "id": "de5376d0",
   "metadata": {},
   "outputs": [],
   "source": [
    "def get_metric_values(y_true, y_pred, pos_label=1):\n",
    "    return {\n",
    "        \"accuracy\": accuracy_score(y_true, y_pred),\n",
    "        \"precision\": precision_score(y_true, y_pred, average=\"binary\", pos_label=pos_label),\n",
    "        \"recall\": recall_score(y_true, y_pred, average=\"binary\", pos_label=pos_label),\n",
    "        \"f1\": f1_score(y_true, y_pred, average=\"binary\", pos_label=pos_label),\n",
    "        \"roc_auc\": roc_auc_score(\n",
    "            y_true,\n",
    "            y_pred,\n",
    "            average=\"weighted\",\n",
    "        ),\n",
    "        \"hter\": HTER_score(y_true, y_pred)\n",
    "    }"
   ]
  },
  {
   "cell_type": "code",
   "execution_count": 78,
   "id": "6c1d1d01",
   "metadata": {},
   "outputs": [],
   "source": [
    "measured_metrics = pd.DataFrame(\n",
    "    {\"Metric\": [\"Accuracy\", \"Precision\", \"Recall\", \"F1\", \"ROC-AUC\", \"HTER\"]}\n",
    ")"
   ]
  },
  {
   "cell_type": "markdown",
   "id": "b319df35",
   "metadata": {},
   "source": [
    "### Алгоритм RDWT-Haralick-SVM (for thermal)"
   ]
  },
  {
   "cell_type": "code",
   "execution_count": 8,
   "id": "08ea1252",
   "metadata": {},
   "outputs": [],
   "source": [
    "X = []\n",
    "y = th_data[\"classes\"].copy()"
   ]
  },
  {
   "cell_type": "code",
   "execution_count": 9,
   "id": "094da4dc",
   "metadata": {},
   "outputs": [],
   "source": [
    "for img in th_data[\"images\"]:\n",
    "    X.append(haralick_rdwt_features(img))"
   ]
  },
  {
   "cell_type": "code",
   "execution_count": 10,
   "id": "7a78b521",
   "metadata": {},
   "outputs": [],
   "source": [
    "X = np.array(X)\n",
    "y = np.array(y)"
   ]
  },
  {
   "cell_type": "code",
   "execution_count": 11,
   "id": "5f235595",
   "metadata": {},
   "outputs": [],
   "source": [
    "X_train, X_test, y_train, y_test = train_test_split(X, y, random_state=42)\n",
    "scaler = StandardScaler()\n",
    "X_train_scaled = scaler.fit_transform(X_train)\n",
    "X_test_scaled = scaler.transform(X_test)"
   ]
  },
  {
   "cell_type": "code",
   "execution_count": 12,
   "id": "38de6398",
   "metadata": {},
   "outputs": [],
   "source": [
    "svc_lin = SVC(kernel=\"linear\", C=1e2)\n",
    "svc_lin.fit(X_train_scaled, y_train)\n",
    "y_pred = svc_lin.predict(X_test_scaled)"
   ]
  },
  {
   "cell_type": "code",
   "execution_count": 80,
   "id": "0e8c5bb4",
   "metadata": {},
   "outputs": [],
   "source": [
    "measured_metrics[\"RDWT-Haralick-SVM (for thermal)\"] = get_metric_values(y_test,y_pred).values()"
   ]
  },
  {
   "cell_type": "code",
   "execution_count": 81,
   "id": "8be10560",
   "metadata": {},
   "outputs": [
    {
     "data": {
      "text/html": [
       "<div>\n",
       "<style scoped>\n",
       "    .dataframe tbody tr th:only-of-type {\n",
       "        vertical-align: middle;\n",
       "    }\n",
       "\n",
       "    .dataframe tbody tr th {\n",
       "        vertical-align: top;\n",
       "    }\n",
       "\n",
       "    .dataframe thead th {\n",
       "        text-align: right;\n",
       "    }\n",
       "</style>\n",
       "<table border=\"1\" class=\"dataframe\">\n",
       "  <thead>\n",
       "    <tr style=\"text-align: right;\">\n",
       "      <th></th>\n",
       "      <th>Metric</th>\n",
       "      <th>RDWT-Haralick-SVM (for thermal)</th>\n",
       "    </tr>\n",
       "  </thead>\n",
       "  <tbody>\n",
       "    <tr>\n",
       "      <th>0</th>\n",
       "      <td>Accuracy</td>\n",
       "      <td>1.0</td>\n",
       "    </tr>\n",
       "    <tr>\n",
       "      <th>1</th>\n",
       "      <td>Precision</td>\n",
       "      <td>1.0</td>\n",
       "    </tr>\n",
       "    <tr>\n",
       "      <th>2</th>\n",
       "      <td>Recall</td>\n",
       "      <td>1.0</td>\n",
       "    </tr>\n",
       "    <tr>\n",
       "      <th>3</th>\n",
       "      <td>F1</td>\n",
       "      <td>1.0</td>\n",
       "    </tr>\n",
       "    <tr>\n",
       "      <th>4</th>\n",
       "      <td>ROC-AUC</td>\n",
       "      <td>1.0</td>\n",
       "    </tr>\n",
       "    <tr>\n",
       "      <th>5</th>\n",
       "      <td>HTER</td>\n",
       "      <td>0.0</td>\n",
       "    </tr>\n",
       "  </tbody>\n",
       "</table>\n",
       "</div>"
      ],
      "text/plain": [
       "      Metric  RDWT-Haralick-SVM (for thermal)\n",
       "0   Accuracy                              1.0\n",
       "1  Precision                              1.0\n",
       "2     Recall                              1.0\n",
       "3         F1                              1.0\n",
       "4    ROC-AUC                              1.0\n",
       "5       HTER                              0.0"
      ]
     },
     "execution_count": 81,
     "metadata": {},
     "output_type": "execute_result"
    }
   ],
   "source": [
    "measured_metrics"
   ]
  },
  {
   "cell_type": "code",
   "execution_count": null,
   "id": "b179e1b4",
   "metadata": {},
   "outputs": [],
   "source": []
  }
 ],
 "metadata": {
  "kernelspec": {
   "display_name": "Python 3 (ipykernel)",
   "language": "python",
   "name": "python3"
  },
  "language_info": {
   "codemirror_mode": {
    "name": "ipython",
    "version": 3
   },
   "file_extension": ".py",
   "mimetype": "text/x-python",
   "name": "python",
   "nbconvert_exporter": "python",
   "pygments_lexer": "ipython3",
   "version": "3.9.10"
  }
 },
 "nbformat": 4,
 "nbformat_minor": 5
}
