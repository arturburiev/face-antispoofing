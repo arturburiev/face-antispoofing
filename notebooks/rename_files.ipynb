{
 "cells": [
  {
   "cell_type": "markdown",
   "id": "debe1219",
   "metadata": {},
   "source": [
    "# Переименование файлов датасета согласно истории съемки"
   ]
  },
  {
   "cell_type": "markdown",
   "id": "52036a27",
   "metadata": {},
   "source": [
    "### Импорт необходимых библиотек"
   ]
  },
  {
   "cell_type": "code",
   "execution_count": 2,
   "id": "b5dbec8f",
   "metadata": {},
   "outputs": [],
   "source": [
    "import sys\n",
    "import pathlib\n",
    "\n",
    "sys.path.insert(1, \"../\")\n",
    "\n",
    "from src.data.dataset_filenames import rename_files"
   ]
  },
  {
   "cell_type": "markdown",
   "id": "822f1b08",
   "metadata": {},
   "source": [
    "### Переименование изображений, снятых на RGB-камеру"
   ]
  },
  {
   "cell_type": "code",
   "execution_count": null,
   "id": "4517e507",
   "metadata": {},
   "outputs": [],
   "source": [
    "main_path = pathlib.Path(\n",
    "    pathlib.Path.home(), \"Projects\", \"ml\", \"datasets\", \"FACE_ANTISPOOFING_EXP2\"\n",
    ")"
   ]
  },
  {
   "cell_type": "code",
   "execution_count": 3,
   "id": "58690602",
   "metadata": {},
   "outputs": [],
   "source": [
    "path_to_dir_rgb = main_path / \"rgb\"\n",
    "\n",
    "path_to_shooting_history_rgb = pathlib.Path(\n",
    "    \"../data/shot_history/shot_history_experiment3_rgb_18032022.txt\"\n",
    ")"
   ]
  },
  {
   "cell_type": "code",
   "execution_count": 4,
   "id": "3c45dabb",
   "metadata": {},
   "outputs": [],
   "source": [
    "rename_files(path_to_dir_rgb, path_to_shooting_history_rgb)"
   ]
  },
  {
   "cell_type": "markdown",
   "id": "7bf4d454",
   "metadata": {},
   "source": [
    "### Переименование изображений, снятых на тепловизионную камеру"
   ]
  },
  {
   "cell_type": "code",
   "execution_count": 7,
   "id": "7f807e22",
   "metadata": {},
   "outputs": [],
   "source": [
    "path_to_dir_thermal = main_path / \"thermal\" / \"orig\"\n",
    "\n",
    "path_to_shooting_history_thermal = pathlib.Path(\n",
    "    \"../data/shot_history/shot_history_experiment3_thermal_18032022.txt\"\n",
    ")"
   ]
  },
  {
   "cell_type": "code",
   "execution_count": 8,
   "id": "21fe5013",
   "metadata": {},
   "outputs": [],
   "source": [
    "rename_files(path_to_dir_thermal, path_to_shooting_history_thermal)"
   ]
  },
  {
   "cell_type": "code",
   "execution_count": null,
   "id": "0c0fe0d1",
   "metadata": {},
   "outputs": [],
   "source": []
  }
 ],
 "metadata": {
  "kernelspec": {
   "display_name": "Python 3 (ipykernel)",
   "language": "python",
   "name": "python3"
  },
  "language_info": {
   "codemirror_mode": {
    "name": "ipython",
    "version": 3
   },
   "file_extension": ".py",
   "mimetype": "text/x-python",
   "name": "python",
   "nbconvert_exporter": "python",
   "pygments_lexer": "ipython3",
   "version": "3.9.10"
  }
 },
 "nbformat": 4,
 "nbformat_minor": 5
}
